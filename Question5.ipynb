{
  "nbformat": 4,
  "nbformat_minor": 0,
  "metadata": {
    "colab": {
      "provenance": [],
      "authorship_tag": "ABX9TyPov21AjRrYFvluERrn0ZL5",
      "include_colab_link": true
    },
    "kernelspec": {
      "name": "python3",
      "display_name": "Python 3"
    },
    "language_info": {
      "name": "python"
    }
  },
  "cells": [
    {
      "cell_type": "markdown",
      "metadata": {
        "id": "view-in-github",
        "colab_type": "text"
      },
      "source": [
        "<a href=\"https://colab.research.google.com/github/Shabbir3117/Python/blob/main/Question5.ipynb\" target=\"_parent\"><img src=\"https://colab.research.google.com/assets/colab-badge.svg\" alt=\"Open In Colab\"/></a>"
      ]
    },
    {
      "cell_type": "code",
      "execution_count": 2,
      "metadata": {
        "colab": {
          "base_uri": "https://localhost:8080/"
        },
        "id": "iCUIqaPcnv9s",
        "outputId": "173c9a84-10b8-43a5-9393-9c828eae2dce"
      },
      "outputs": [
        {
          "output_type": "stream",
          "name": "stdout",
          "text": [
            "Enter the string - The quick Brow Fox\n",
            "No. of Upper case characters 3\n",
            "No. of Lower case Characters 12\n"
          ]
        }
      ],
      "source": [
        "#Write a Python function that accepts a string and calculates the number of uppercase letters and lower case letters.\n",
        "x=input(\"Enter the string - \")\n",
        "def char(x):\n",
        "  u=0\n",
        "  l=0\n",
        "  for i in x:\n",
        "      if i>='a' and i<='z':\n",
        "       l+=1\n",
        "\n",
        "      if i >='A' and i<='Z':\n",
        "       u+=1\n",
        "\n",
        "  print(\"No. of Upper case characters\",u)\n",
        "  print(\"No. of Lower case Characters\",l)\n",
        "char(x)\n"
      ]
    }
  ]
}
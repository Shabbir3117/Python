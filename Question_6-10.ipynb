{
  "nbformat": 4,
  "nbformat_minor": 0,
  "metadata": {
    "colab": {
      "provenance": [],
      "authorship_tag": "ABX9TyO1FbdA4aX/Tjxr9jyV47zP",
      "include_colab_link": true
    },
    "kernelspec": {
      "name": "python3",
      "display_name": "Python 3"
    },
    "language_info": {
      "name": "python"
    }
  },
  "cells": [
    {
      "cell_type": "markdown",
      "metadata": {
        "id": "view-in-github",
        "colab_type": "text"
      },
      "source": [
        "<a href=\"https://colab.research.google.com/github/Shabbir3117/Python/blob/main/Question_6-10.ipynb\" target=\"_parent\"><img src=\"https://colab.research.google.com/assets/colab-badge.svg\" alt=\"Open In Colab\"/></a>"
      ]
    },
    {
      "cell_type": "code",
      "execution_count": 2,
      "metadata": {
        "colab": {
          "base_uri": "https://localhost:8080/"
        },
        "id": "Mkxlm3fHpquY",
        "outputId": "9cd95178-2e7a-487b-b3a5-02066620737e"
      },
      "outputs": [
        {
          "output_type": "stream",
          "name": "stdout",
          "text": [
            "35\n"
          ]
        }
      ],
      "source": [
        "#Challenge 1: Square Numbers and Return Their Sum\n",
        "class Point1:\n",
        "\n",
        "    def __init__(self,x,y,z):\n",
        "\n",
        "        self.x = x\n",
        "\n",
        "        self.y = y\n",
        "\n",
        "        self.z = z\n",
        "\n",
        "    def sqSum(self):\n",
        "\n",
        "        return(self.x**2+self.y**2+self.z**2)\n",
        "\n",
        "obj=Point1(1,3,5)\n",
        "\n",
        "print(obj.sqSum())"
      ]
    },
    {
      "cell_type": "code",
      "source": [
        "#Challenge 2: Implement a Calculator Class\n",
        "class Calculator:\n",
        "\n",
        "    def __init__(self,x,y):\n",
        "\n",
        "        self.x = x\n",
        "\n",
        "        self.y = y\n",
        "\n",
        "    def add(self):\n",
        "\n",
        "        return self.y+self.x\n",
        "\n",
        "    def subtract(self):\n",
        "\n",
        "        return self.y-self.x\n",
        "\n",
        "    def multiply(self):\n",
        "\n",
        "        return self.y*self.x\n",
        "\n",
        "    def divide(self):\n",
        "\n",
        "        return self.y/self.x\n",
        "\n",
        "obj = Calculator(45,84)\n",
        "\n",
        "print(obj.add())\n",
        "\n",
        "print(obj.subtract())\n",
        "\n",
        "print(obj.multiply())\n",
        "\n",
        "print(obj.divide())"
      ],
      "metadata": {
        "colab": {
          "base_uri": "https://localhost:8080/"
        },
        "id": "-TPdebzSqQXX",
        "outputId": "348edfc7-ff92-4cb9-9efb-9615f6b0654f"
      },
      "execution_count": 3,
      "outputs": [
        {
          "output_type": "stream",
          "name": "stdout",
          "text": [
            "129\n",
            "39\n",
            "3780\n",
            "1.8666666666666667\n"
          ]
        }
      ]
    },
    {
      "cell_type": "code",
      "source": [
        "#Challenge 3: Implement the Complete Student Class\n",
        "class Student:\n",
        "\n",
        "    def __init__(self,name=None,roll_num=None):\n",
        "\n",
        "        self.__student_name=name\n",
        "\n",
        "        self.__roll_number=roll_num\n",
        "\n",
        "    def setName(self,name):\n",
        "\n",
        "        self.__student_name=name\n",
        "\n",
        "    def getName(self):\n",
        "\n",
        "        return(self.__student_name)\n",
        "\n",
        "    def setRollNumber(self,roll_num):\n",
        "\n",
        "        self.__roll_number=roll_num\n",
        "\n",
        "    def getRollNumber(self):\n",
        "\n",
        "        return(self.__roll_number)\n",
        "\n",
        "s1=Student()\n",
        "\n",
        "print(s1.getName())\n",
        "\n",
        "s1.setName(\"Naveen\")\n",
        "\n",
        "print(s1.getName())\n",
        "\n",
        "print(s1.getRollNumber())\n",
        "\n",
        "s1.setRollNumber(101)\n",
        "\n",
        "print(s1.getRollNumber())"
      ],
      "metadata": {
        "colab": {
          "base_uri": "https://localhost:8080/"
        },
        "id": "GJOy9AtpqUaI",
        "outputId": "8fd44698-9c11-485d-f77e-e77ff915e7f9"
      },
      "execution_count": 4,
      "outputs": [
        {
          "output_type": "stream",
          "name": "stdout",
          "text": [
            "None\n",
            "Naveen\n",
            "None\n",
            "101\n"
          ]
        }
      ]
    },
    {
      "cell_type": "code",
      "source": [
        "#Challenge 4: Implement a Banking Account\n",
        "class Account:\n",
        "\n",
        "    def __init__(self,title=None,Balance=0):\n",
        "\n",
        "        self.title=title\n",
        "\n",
        "        self.Balance=Balance\n",
        "\n",
        "class SavingsAccount(Account):\n",
        "\n",
        "    def __init__(self,title=None,Balance=0,interestRate=0):\n",
        "\n",
        "        super().__init__(title,Balance)\n",
        "\n",
        "        self.interestRate=interestRate\n",
        "\n",
        "obj1=Account(\"Ashish\",500)\n",
        "\n",
        "obj2=SavingsAccount(\"Ashish\",500,5)\n",
        "\n",
        "print(obj2.title)\n",
        "\n",
        "print(obj2.Balance)\n",
        "\n",
        "print(obj2.interestRate)"
      ],
      "metadata": {
        "colab": {
          "base_uri": "https://localhost:8080/"
        },
        "id": "TL36BxDKqY_g",
        "outputId": "44b6dac6-dd90-4ca2-cb02-fdcbcee02880"
      },
      "execution_count": 5,
      "outputs": [
        {
          "output_type": "stream",
          "name": "stdout",
          "text": [
            "Ashish\n",
            "500\n",
            "5\n"
          ]
        }
      ]
    },
    {
      "cell_type": "code",
      "source": [
        "#Challenge 5: Handling a Bank Account\n",
        "class Account:\n",
        "\n",
        "    def __init__(self, title=None, balance=0):\n",
        "\n",
        "        self.title = title\n",
        "\n",
        "        self.balance = balance\n",
        "\n",
        "    def withdrawal(self, amount):\n",
        "\n",
        "        self.balance-=amount\n",
        "\n",
        "    def deposit(self, amount):\n",
        "\n",
        "        self.balance+=amount\n",
        "\n",
        "    def getBalance(self):\n",
        "\n",
        "        return self.balance\n",
        "\n",
        "class SavingsAccount(Account):\n",
        "\n",
        "    def __init__(self, title=None, balance=0, interestRate=0):\n",
        "\n",
        "            super().__init__(title, balance)\n",
        "\n",
        "            self.interestRate = interestRate\n",
        "\n",
        "    def interestAmount(self):\n",
        "\n",
        "        return(self.interestRate*self.getBalance())/100\n",
        "\n",
        "obj1 = SavingsAccount(\"Ashish\", 2000, 5)   # initializing a SavingsAccount object\n",
        "\n",
        "print(f\"Account holder Name:{obj1.title}\")\n",
        "\n",
        "print(f\"Account Balance: {obj1.getBalance()}\")\n",
        "\n",
        "obj1.deposit(500)\n",
        "\n",
        "print(f\"Account Balance after deposit: {obj1.getBalance()}\")\n",
        "\n",
        "obj1.withdrawal(100)\n",
        "\n",
        "print(f\"Account Balance after withdrawal: {obj1.getBalance()}\")\n",
        "\n",
        "print(f\"Interest for the balance amount:{obj1.interestAmount()}\")\n"
      ],
      "metadata": {
        "colab": {
          "base_uri": "https://localhost:8080/"
        },
        "id": "0ZzGuyriqepK",
        "outputId": "56932f1d-4b7f-4d53-d732-07054b584541"
      },
      "execution_count": 6,
      "outputs": [
        {
          "output_type": "stream",
          "name": "stdout",
          "text": [
            "Account holder Name:Ashish\n",
            "Account Balance: 2000\n",
            "Account Balance after deposit: 2500\n",
            "Account Balance after withdrawal: 2400\n",
            "Interest for the balance amount:120.0\n"
          ]
        }
      ]
    }
  ]
}
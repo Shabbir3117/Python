{
  "nbformat": 4,
  "nbformat_minor": 0,
  "metadata": {
    "colab": {
      "provenance": [],
      "authorship_tag": "ABX9TyP+Cl9Q2zyJ5ACb1DxK3P6n",
      "include_colab_link": true
    },
    "kernelspec": {
      "name": "python3",
      "display_name": "Python 3"
    },
    "language_info": {
      "name": "python"
    }
  },
  "cells": [
    {
      "cell_type": "markdown",
      "metadata": {
        "id": "view-in-github",
        "colab_type": "text"
      },
      "source": [
        "<a href=\"https://colab.research.google.com/github/Shabbir3117/Python/blob/main/order%20Data%20analysis.ipynb\" target=\"_parent\"><img src=\"https://colab.research.google.com/assets/colab-badge.svg\" alt=\"Open In Colab\"/></a>"
      ]
    },
    {
      "cell_type": "code",
      "source": [
        "from pyspark.sql.functions import *\n",
        "prop = {'header':False,'infershema':'True','sep':','}\n",
        "categories_df = spark.read.options(**prop).csv(\"categories/part-00000\")\n",
        "categories_df.show()"
      ],
      "metadata": {
        "colab": {
          "base_uri": "https://localhost:8080/"
        },
        "id": "l_vhM41dEQj5",
        "outputId": "512f4c1c-d534-4b23-fbe5-056adc96e0b1"
      },
      "execution_count": null,
      "outputs": [
        {
          "output_type": "stream",
          "name": "stdout",
          "text": [
            "+---+---+-------------------+\n",
            "|_c0|_c1|                _c2|\n",
            "+---+---+-------------------+\n",
            "|  1|  2|           Football|\n",
            "|  2|  2|             Soccer|\n",
            "|  3|  2|Baseball & Softball|\n",
            "|  4|  2|         Basketball|\n",
            "|  5|  2|           Lacrosse|\n",
            "|  6|  2|   Tennis & Racquet|\n",
            "|  7|  2|             Hockey|\n",
            "|  8|  2|        More Sports|\n",
            "|  9|  3|   Cardio Equipment|\n",
            "| 10|  3|  Strength Training|\n",
            "| 11|  3|Fitness Accessories|\n",
            "| 12|  3|       Boxing & MMA|\n",
            "| 13|  3|        Electronics|\n",
            "| 14|  3|     Yoga & Pilates|\n",
            "| 15|  3|  Training by Sport|\n",
            "| 16|  3|    As Seen on  TV!|\n",
            "| 17|  4|             Cleats|\n",
            "| 18|  4|     Men's Footwear|\n",
            "| 19|  4|   Women's Footwear|\n",
            "| 20|  4|     Kids' Footwear|\n",
            "+---+---+-------------------+\n",
            "only showing top 20 rows\n",
            "\n"
          ]
        }
      ]
    },
    {
      "cell_type": "code",
      "source": [
        "customers_df = spark.read.csv(\"customers/part-00000\")\n",
        "customers_df.show()"
      ],
      "metadata": {
        "colab": {
          "base_uri": "https://localhost:8080/"
        },
        "id": "FHNKffKzFIky",
        "outputId": "a4056175-cb7c-48c8-e618-45ef00a044c7"
      },
      "execution_count": null,
      "outputs": [
        {
          "output_type": "stream",
          "name": "stdout",
          "text": [
            "+---+-----------+---------+---------+---------+--------------------+-------------+---+-----+\n",
            "|_c0|        _c1|      _c2|      _c3|      _c4|                 _c5|          _c6|_c7|  _c8|\n",
            "+---+-----------+---------+---------+---------+--------------------+-------------+---+-----+\n",
            "|  1|    Richard|Hernandez|XXXXXXXXX|XXXXXXXXX|  6303 Heather Plaza|  Brownsville| TX|78521|\n",
            "|  2|       Mary|  Barrett|XXXXXXXXX|XXXXXXXXX|9526 Noble Embers...|    Littleton| CO|80126|\n",
            "|  3|        Ann|    Smith|XXXXXXXXX|XXXXXXXXX|3422 Blue Pioneer...|       Caguas| PR|00725|\n",
            "|  4|       Mary|    Jones|XXXXXXXXX|XXXXXXXXX|  8324 Little Common|   San Marcos| CA|92069|\n",
            "|  5|     Robert|   Hudson|XXXXXXXXX|XXXXXXXXX|10 Crystal River ...|       Caguas| PR|00725|\n",
            "|  6|       Mary|    Smith|XXXXXXXXX|XXXXXXXXX|3151 Sleepy Quail...|      Passaic| NJ|07055|\n",
            "|  7|    Melissa|   Wilcox|XXXXXXXXX|XXXXXXXXX|9453 High Concession|       Caguas| PR|00725|\n",
            "|  8|      Megan|    Smith|XXXXXXXXX|XXXXXXXXX|3047 Foggy Forest...|     Lawrence| MA|01841|\n",
            "|  9|       Mary|    Perez|XXXXXXXXX|XXXXXXXXX| 3616 Quaking Street|       Caguas| PR|00725|\n",
            "| 10|    Melissa|    Smith|XXXXXXXXX|XXXXXXXXX|8598 Harvest Beac...|     Stafford| VA|22554|\n",
            "| 11|       Mary|  Huffman|XXXXXXXXX|XXXXXXXXX|    3169 Stony Woods|       Caguas| PR|00725|\n",
            "| 12|Christopher|    Smith|XXXXXXXXX|XXXXXXXXX|5594 Jagged Ember...|  San Antonio| TX|78227|\n",
            "| 13|       Mary|  Baldwin|XXXXXXXXX|XXXXXXXXX|7922 Iron Oak Gar...|       Caguas| PR|00725|\n",
            "| 14|  Katherine|    Smith|XXXXXXXXX|XXXXXXXXX|5666 Hazy Pony Sq...|  Pico Rivera| CA|90660|\n",
            "| 15|       Jane|     Luna|XXXXXXXXX|XXXXXXXXX|    673 Burning Glen|      Fontana| CA|92336|\n",
            "| 16|    Tiffany|    Smith|XXXXXXXXX|XXXXXXXXX|      6651 Iron Port|       Caguas| PR|00725|\n",
            "| 17|       Mary| Robinson|XXXXXXXXX|XXXXXXXXX|     1325 Noble Pike|       Taylor| MI|48180|\n",
            "| 18|     Robert|    Smith|XXXXXXXXX|XXXXXXXXX|2734 Hazy Butterf...|     Martinez| CA|94553|\n",
            "| 19|  Stephanie| Mitchell|XXXXXXXXX|XXXXXXXXX|3543 Red Treasure...|       Caguas| PR|00725|\n",
            "| 20|       Mary|    Ellis|XXXXXXXXX|XXXXXXXXX|      4703 Old Route|West New York| NJ|07093|\n",
            "+---+-----------+---------+---------+---------+--------------------+-------------+---+-----+\n",
            "only showing top 20 rows\n",
            "\n"
          ]
        }
      ]
    },
    {
      "cell_type": "code",
      "source": [
        "departments_df = spark.read.csv(\"departments/part-00000\")\n",
        "departments_df .show()"
      ],
      "metadata": {
        "colab": {
          "base_uri": "https://localhost:8080/"
        },
        "id": "yOIUaOSWFOe2",
        "outputId": "23fcdb14-0fa0-4b26-acb6-ca4a9bf620a5"
      },
      "execution_count": null,
      "outputs": [
        {
          "output_type": "stream",
          "name": "stdout",
          "text": [
            "+---+--------+\n",
            "|_c0|     _c1|\n",
            "+---+--------+\n",
            "|  2| Fitness|\n",
            "|  3|Footwear|\n",
            "|  4| Apparel|\n",
            "|  5|    Golf|\n",
            "|  6|Outdoors|\n",
            "|  7|Fan Shop|\n",
            "+---+--------+\n",
            "\n"
          ]
        }
      ]
    },
    {
      "cell_type": "code",
      "source": [
        "order_items_df = spark.read.csv(\"order_items/part-00000\")\n",
        "order_items_df.show()"
      ],
      "metadata": {
        "colab": {
          "base_uri": "https://localhost:8080/"
        },
        "id": "PRqBVIcfFSnB",
        "outputId": "94f52f87-ea68-4037-92ec-89afee75c110"
      },
      "execution_count": null,
      "outputs": [
        {
          "output_type": "stream",
          "name": "stdout",
          "text": [
            "+---+---+----+---+------+------+\n",
            "|_c0|_c1| _c2|_c3|   _c4|   _c5|\n",
            "+---+---+----+---+------+------+\n",
            "|  1|  1| 957|  1|299.98|299.98|\n",
            "|  2|  2|1073|  1|199.99|199.99|\n",
            "|  3|  2| 502|  5| 250.0|  50.0|\n",
            "|  4|  2| 403|  1|129.99|129.99|\n",
            "|  5|  4| 897|  2| 49.98| 24.99|\n",
            "|  6|  4| 365|  5|299.95| 59.99|\n",
            "|  7|  4| 502|  3| 150.0|  50.0|\n",
            "|  8|  4|1014|  4|199.92| 49.98|\n",
            "|  9|  5| 957|  1|299.98|299.98|\n",
            "| 10|  5| 365|  5|299.95| 59.99|\n",
            "| 11|  5|1014|  2| 99.96| 49.98|\n",
            "| 12|  5| 957|  1|299.98|299.98|\n",
            "| 13|  5| 403|  1|129.99|129.99|\n",
            "| 14|  7|1073|  1|199.99|199.99|\n",
            "| 15|  7| 957|  1|299.98|299.98|\n",
            "| 16|  7| 926|  5| 79.95| 15.99|\n",
            "| 17|  8| 365|  3|179.97| 59.99|\n",
            "| 18|  8| 365|  5|299.95| 59.99|\n",
            "| 19|  8|1014|  4|199.92| 49.98|\n",
            "| 20|  8| 502|  1|  50.0|  50.0|\n",
            "+---+---+----+---+------+------+\n",
            "only showing top 20 rows\n",
            "\n"
          ]
        }
      ]
    },
    {
      "cell_type": "code",
      "source": [
        "orders_df = spark.read.csv(\"orders/part-00000\")\n",
        "orders_df.show()"
      ],
      "metadata": {
        "colab": {
          "base_uri": "https://localhost:8080/"
        },
        "id": "GJEEP-SLFpyQ",
        "outputId": "85d163b0-8d8b-48a7-d9c5-80d075e9c826"
      },
      "execution_count": null,
      "outputs": [
        {
          "output_type": "stream",
          "name": "stdout",
          "text": [
            "+---+--------------------+-----+---------------+\n",
            "|_c0|                 _c1|  _c2|            _c3|\n",
            "+---+--------------------+-----+---------------+\n",
            "|  1|2013-07-25 00:00:...|11599|         CLOSED|\n",
            "|  2|2013-07-25 00:00:...|  256|PENDING_PAYMENT|\n",
            "|  3|2013-07-25 00:00:...|12111|       COMPLETE|\n",
            "|  4|2013-07-25 00:00:...| 8827|         CLOSED|\n",
            "|  5|2013-07-25 00:00:...|11318|       COMPLETE|\n",
            "|  6|2013-07-25 00:00:...| 7130|       COMPLETE|\n",
            "|  7|2013-07-25 00:00:...| 4530|       COMPLETE|\n",
            "|  8|2013-07-25 00:00:...| 2911|     PROCESSING|\n",
            "|  9|2013-07-25 00:00:...| 5657|PENDING_PAYMENT|\n",
            "| 10|2013-07-25 00:00:...| 5648|PENDING_PAYMENT|\n",
            "| 11|2013-07-25 00:00:...|  918| PAYMENT_REVIEW|\n",
            "| 12|2013-07-25 00:00:...| 1837|         CLOSED|\n",
            "| 13|2013-07-25 00:00:...| 9149|PENDING_PAYMENT|\n",
            "| 14|2013-07-25 00:00:...| 9842|     PROCESSING|\n",
            "| 15|2013-07-25 00:00:...| 2568|       COMPLETE|\n",
            "| 16|2013-07-25 00:00:...| 7276|PENDING_PAYMENT|\n",
            "| 17|2013-07-25 00:00:...| 2667|       COMPLETE|\n",
            "| 18|2013-07-25 00:00:...| 1205|         CLOSED|\n",
            "| 19|2013-07-25 00:00:...| 9488|PENDING_PAYMENT|\n",
            "| 20|2013-07-25 00:00:...| 9198|     PROCESSING|\n",
            "+---+--------------------+-----+---------------+\n",
            "only showing top 20 rows\n",
            "\n"
          ]
        }
      ]
    },
    {
      "cell_type": "code",
      "source": [
        "products_df = spark.read.csv(\"products/part-00000\")\n",
        "products_df.show()"
      ],
      "metadata": {
        "colab": {
          "base_uri": "https://localhost:8080/"
        },
        "id": "ONrROqVHFttw",
        "outputId": "c36a1a75-afa6-4e1a-ef09-67db3f43e070"
      },
      "execution_count": null,
      "outputs": [
        {
          "output_type": "stream",
          "name": "stdout",
          "text": [
            "+---+---+--------------------+----+------+--------------------+\n",
            "|_c0|_c1|                 _c2| _c3|   _c4|                 _c5|\n",
            "+---+---+--------------------+----+------+--------------------+\n",
            "|  1|  2|Quest Q64 10 FT. ...|null| 59.98|http://images.acm...|\n",
            "|  2|  2|Under Armour Men'...|null|129.99|http://images.acm...|\n",
            "|  3|  2|Under Armour Men'...|null| 89.99|http://images.acm...|\n",
            "|  4|  2|Under Armour Men'...|null| 89.99|http://images.acm...|\n",
            "|  5|  2|Riddell Youth Rev...|null|199.99|http://images.acm...|\n",
            "|  6|  2|Jordan Men's VI R...|null|134.99|http://images.acm...|\n",
            "|  7|  2|Schutt Youth Recr...|null| 99.99|http://images.acm...|\n",
            "|  8|  2|Nike Men's Vapor ...|null|129.99|http://images.acm...|\n",
            "|  9|  2|Nike Adult Vapor ...|null|  50.0|http://images.acm...|\n",
            "| 10|  2|Under Armour Men'...|null|129.99|http://images.acm...|\n",
            "| 11|  2|Fitness Gear 300 ...|null|209.99|http://images.acm...|\n",
            "| 12|  2|Under Armour Men'...|null|139.99|http://images.acm...|\n",
            "| 13|  2|Under Armour Men'...|null| 89.99|http://images.acm...|\n",
            "| 14|  2|Quik Shade Summit...|null|199.99|http://images.acm...|\n",
            "| 15|  2|Under Armour Kids...|null| 59.99|http://images.acm...|\n",
            "| 16|  2|Riddell Youth 360...|null|299.99|http://images.acm...|\n",
            "| 17|  2|Under Armour Men'...|null|129.99|http://images.acm...|\n",
            "| 18|  2|Reebok Men's Full...|null| 29.97|http://images.acm...|\n",
            "| 19|  2|Nike Men's Finger...|null|124.99|http://images.acm...|\n",
            "| 20|  2|Under Armour Men'...|null|129.99|http://images.acm...|\n",
            "+---+---+--------------------+----+------+--------------------+\n",
            "only showing top 20 rows\n",
            "\n"
          ]
        }
      ]
    },
    {
      "cell_type": "code",
      "source": [
        "orders_df = (orders_df.withColumnRenamed(\"_c0\", \"order_id\").withColumnRenamed(\"_c1\", \"order_date\").withColumnRenamed(\"_c2\", \"order_customer_id\").withColumnRenamed(\"_c3\", \"order_status\"))"
      ],
      "metadata": {
        "id": "3YnHJCpfF6QW"
      },
      "execution_count": null,
      "outputs": []
    },
    {
      "cell_type": "code",
      "source": [
        "# Update column names for order_items_df\n",
        "order_items_df = (order_items_df.withColumnRenamed(\"_c0\", \"order_item_id\").withColumnRenamed(\"_c1\", \"order_item_order_id\").withColumnRenamed(\"_c2\", \"order_item_product_id\").withColumnRenamed(\"_c3\", \"order_item_quantity\").withColumnRenamed(\"_c4\", \"order_item_subtotal\").withColumnRenamed(\"_c5\", \"order_item_product_price\"))"
      ],
      "metadata": {
        "id": "rkkmKBbeGLuy"
      },
      "execution_count": null,
      "outputs": []
    },
    {
      "cell_type": "code",
      "source": [
        "# Update column names for products_df\n",
        "products_df = (products_df.withColumnRenamed(\"_c0\", \"product_id\").withColumnRenamed(\"_c1\", \"product_category_id\").withColumnRenamed(\"_c2\", \"product_name\").withColumnRenamed(\"_c3\", \"product_description\").withColumnRenamed(\"_c4\", \"product_price\").withColumnRenamed(\"_c5\", \"product_image\"))"
      ],
      "metadata": {
        "id": "MfjdvbR4GQVH"
      },
      "execution_count": null,
      "outputs": []
    },
    {
      "cell_type": "code",
      "source": [
        "#What is the daily product revenue for CLOSED or COMPLETE orders?\n",
        "orders_df.show()\n",
        "order_status_count = orders_df.groupBy(col(\"order_status\")).count()\n",
        "order_status_count.show()"
      ],
      "metadata": {
        "colab": {
          "base_uri": "https://localhost:8080/"
        },
        "id": "HGwxuKefGUYq",
        "outputId": "9d075797-0604-4400-e92a-ffc56da4c8f6"
      },
      "execution_count": null,
      "outputs": [
        {
          "output_type": "stream",
          "name": "stdout",
          "text": [
            "+--------+--------------------+-----------------+---------------+\n",
            "|order_id|          order_date|order_customer_id|   order_status|\n",
            "+--------+--------------------+-----------------+---------------+\n",
            "|       1|2013-07-25 00:00:...|            11599|         CLOSED|\n",
            "|       2|2013-07-25 00:00:...|              256|PENDING_PAYMENT|\n",
            "|       3|2013-07-25 00:00:...|            12111|       COMPLETE|\n",
            "|       4|2013-07-25 00:00:...|             8827|         CLOSED|\n",
            "|       5|2013-07-25 00:00:...|            11318|       COMPLETE|\n",
            "|       6|2013-07-25 00:00:...|             7130|       COMPLETE|\n",
            "|       7|2013-07-25 00:00:...|             4530|       COMPLETE|\n",
            "|       8|2013-07-25 00:00:...|             2911|     PROCESSING|\n",
            "|       9|2013-07-25 00:00:...|             5657|PENDING_PAYMENT|\n",
            "|      10|2013-07-25 00:00:...|             5648|PENDING_PAYMENT|\n",
            "|      11|2013-07-25 00:00:...|              918| PAYMENT_REVIEW|\n",
            "|      12|2013-07-25 00:00:...|             1837|         CLOSED|\n",
            "|      13|2013-07-25 00:00:...|             9149|PENDING_PAYMENT|\n",
            "|      14|2013-07-25 00:00:...|             9842|     PROCESSING|\n",
            "|      15|2013-07-25 00:00:...|             2568|       COMPLETE|\n",
            "|      16|2013-07-25 00:00:...|             7276|PENDING_PAYMENT|\n",
            "|      17|2013-07-25 00:00:...|             2667|       COMPLETE|\n",
            "|      18|2013-07-25 00:00:...|             1205|         CLOSED|\n",
            "|      19|2013-07-25 00:00:...|             9488|PENDING_PAYMENT|\n",
            "|      20|2013-07-25 00:00:...|             9198|     PROCESSING|\n",
            "+--------+--------------------+-----------------+---------------+\n",
            "only showing top 20 rows\n",
            "\n",
            "+---------------+-----+\n",
            "|   order_status|count|\n",
            "+---------------+-----+\n",
            "|PENDING_PAYMENT|15029|\n",
            "|              3|12055|\n",
            "|         199.99|    1|\n",
            "|           null|    2|\n",
            "|              5|12067|\n",
            "|       COMPLETE|22898|\n",
            "|        ON_HOLD| 3798|\n",
            "| PAYMENT_REVIEW|  729|\n",
            "|     PROCESSING| 8275|\n",
            "|              1|55452|\n",
            "|         CLOSED| 7556|\n",
            "|              4|12179|\n",
            "|SUSPECTED_FRAUD| 1558|\n",
            "|        PENDING| 7610|\n",
            "|       CANCELED| 1428|\n",
            "|              2|11967|\n",
            "+---------------+-----+\n",
            "\n"
          ]
        }
      ]
    },
    {
      "cell_type": "code",
      "source": [
        "# Filter only COMPLETE or CLOSED orders\n",
        "closed_complete_orders_df = orders_df.filter((orders_df[\"order_status\"] == \"COMPLETE\") | (orders_df[\"order_status\"] == \"CLOSED\"))\n",
        "closed_complete_orders_df.show()"
      ],
      "metadata": {
        "colab": {
          "base_uri": "https://localhost:8080/"
        },
        "id": "aWy0jt4TIl16",
        "outputId": "d8a8a5e5-b203-4555-c48d-790a813abb22"
      },
      "execution_count": null,
      "outputs": [
        {
          "output_type": "stream",
          "name": "stdout",
          "text": [
            "+--------+--------------------+-----------------+------------+\n",
            "|order_id|          order_date|order_customer_id|order_status|\n",
            "+--------+--------------------+-----------------+------------+\n",
            "|       1|2013-07-25 00:00:...|            11599|      CLOSED|\n",
            "|       3|2013-07-25 00:00:...|            12111|    COMPLETE|\n",
            "|       4|2013-07-25 00:00:...|             8827|      CLOSED|\n",
            "|       5|2013-07-25 00:00:...|            11318|    COMPLETE|\n",
            "|       6|2013-07-25 00:00:...|             7130|    COMPLETE|\n",
            "|       7|2013-07-25 00:00:...|             4530|    COMPLETE|\n",
            "|      12|2013-07-25 00:00:...|             1837|      CLOSED|\n",
            "|      15|2013-07-25 00:00:...|             2568|    COMPLETE|\n",
            "|      17|2013-07-25 00:00:...|             2667|    COMPLETE|\n",
            "|      18|2013-07-25 00:00:...|             1205|      CLOSED|\n",
            "|      22|2013-07-25 00:00:...|              333|    COMPLETE|\n",
            "|      24|2013-07-25 00:00:...|            11441|      CLOSED|\n",
            "|      25|2013-07-25 00:00:...|             9503|      CLOSED|\n",
            "|      26|2013-07-25 00:00:...|             7562|    COMPLETE|\n",
            "|      28|2013-07-25 00:00:...|              656|    COMPLETE|\n",
            "|      32|2013-07-25 00:00:...|             3960|    COMPLETE|\n",
            "|      35|2013-07-25 00:00:...|             4840|    COMPLETE|\n",
            "|      37|2013-07-25 00:00:...|             5863|      CLOSED|\n",
            "|      45|2013-07-25 00:00:...|             2636|    COMPLETE|\n",
            "|      51|2013-07-25 00:00:...|            12271|      CLOSED|\n",
            "+--------+--------------------+-----------------+------------+\n",
            "only showing top 20 rows\n",
            "\n"
          ]
        }
      ]
    },
    {
      "cell_type": "code",
      "source": [
        "# Join the products, order_items, and closed_complete_orders DataFrames\n",
        "joined_df = (\n",
        "    products_df.join(order_items_df, products_df[\"product_id\"] == order_items_df[\"order_item_product_id\"], \"inner\")\n",
        "    .join(closed_complete_orders_df, order_items_df[\"order_item_order_id\"] == closed_complete_orders_df[\"order_id\"], \"inner\")\n",
        ").show(10)\n",
        "\n"
      ],
      "metadata": {
        "colab": {
          "base_uri": "https://localhost:8080/"
        },
        "id": "hEAi_puaI6ZU",
        "outputId": "8a21be18-ed9a-4451-8603-2a3809d0e17e"
      },
      "execution_count": null,
      "outputs": [
        {
          "output_type": "stream",
          "name": "stdout",
          "text": [
            "+----------+-------------------+--------------------+-------------------+-------------+--------------------+-------------+-------------------+---------------------+-------------------+-------------------+------------------------+--------+--------------------+-----------------+------------+\n",
            "|product_id|product_category_id|        product_name|product_description|product_price|       product_image|order_item_id|order_item_order_id|order_item_product_id|order_item_quantity|order_item_subtotal|order_item_product_price|order_id|          order_date|order_customer_id|order_status|\n",
            "+----------+-------------------+--------------------+-------------------+-------------+--------------------+-------------+-------------------+---------------------+-------------------+-------------------+------------------------+--------+--------------------+-----------------+------------+\n",
            "|       957|                 43|Diamondback Women...|               null|       299.98|http://images.acm...|            1|                  1|                  957|                  1|             299.98|                  299.98|       1|2013-07-25 00:00:...|            11599|      CLOSED|\n",
            "|       897|                 40|Team Golf New Eng...|               null|        24.99|http://images.acm...|            5|                  4|                  897|                  2|              49.98|                   24.99|       4|2013-07-25 00:00:...|             8827|      CLOSED|\n",
            "|       365|                 17|Perfect Fitness P...|               null|        59.99|http://images.acm...|            6|                  4|                  365|                  5|             299.95|                   59.99|       4|2013-07-25 00:00:...|             8827|      CLOSED|\n",
            "|       502|                 24|Nike Men's Dri-FI...|               null|         50.0|http://images.acm...|            7|                  4|                  502|                  3|              150.0|                    50.0|       4|2013-07-25 00:00:...|             8827|      CLOSED|\n",
            "|      1014|                 46|O'Brien Men's Neo...|               null|        49.98|http://images.acm...|            8|                  4|                 1014|                  4|             199.92|                   49.98|       4|2013-07-25 00:00:...|             8827|      CLOSED|\n",
            "|       957|                 43|Diamondback Women...|               null|       299.98|http://images.acm...|            9|                  5|                  957|                  1|             299.98|                  299.98|       5|2013-07-25 00:00:...|            11318|    COMPLETE|\n",
            "|       365|                 17|Perfect Fitness P...|               null|        59.99|http://images.acm...|           10|                  5|                  365|                  5|             299.95|                   59.99|       5|2013-07-25 00:00:...|            11318|    COMPLETE|\n",
            "|      1014|                 46|O'Brien Men's Neo...|               null|        49.98|http://images.acm...|           11|                  5|                 1014|                  2|              99.96|                   49.98|       5|2013-07-25 00:00:...|            11318|    COMPLETE|\n",
            "|       957|                 43|Diamondback Women...|               null|       299.98|http://images.acm...|           12|                  5|                  957|                  1|             299.98|                  299.98|       5|2013-07-25 00:00:...|            11318|    COMPLETE|\n",
            "|       403|                 18|Nike Men's CJ Eli...|               null|       129.99|http://images.acm...|           13|                  5|                  403|                  1|             129.99|                  129.99|       5|2013-07-25 00:00:...|            11318|    COMPLETE|\n",
            "+----------+-------------------+--------------------+-------------------+-------------+--------------------+-------------+-------------------+---------------------+-------------------+-------------------+------------------------+--------+--------------------+-----------------+------------+\n",
            "only showing top 10 rows\n",
            "\n"
          ]
        }
      ]
    },
    {
      "cell_type": "code",
      "source": [
        "# Join tables and calculate daily product revenue\n",
        "joined_df = (\n",
        "    products_df.join(order_items_df, products_df[\"product_id\"] == order_items_df[\"order_item_product_id\"], \"inner\")\n",
        "    .join(closed_complete_orders_df, order_items_df[\"order_item_order_id\"] == closed_complete_orders_df[\"order_id\"], \"inner\")\n",
        ")\n",
        "joined_df.show()"
      ],
      "metadata": {
        "colab": {
          "base_uri": "https://localhost:8080/"
        },
        "id": "SbRuIuJ_LHnM",
        "outputId": "058c2217-65ac-4e16-edcb-df841f2d465e"
      },
      "execution_count": null,
      "outputs": [
        {
          "output_type": "stream",
          "name": "stdout",
          "text": [
            "+----------+-------------------+--------------------+-------------------+-------------+--------------------+-------------+-------------------+---------------------+-------------------+-------------------+------------------------+--------+--------------------+-----------------+------------+\n",
            "|product_id|product_category_id|        product_name|product_description|product_price|       product_image|order_item_id|order_item_order_id|order_item_product_id|order_item_quantity|order_item_subtotal|order_item_product_price|order_id|          order_date|order_customer_id|order_status|\n",
            "+----------+-------------------+--------------------+-------------------+-------------+--------------------+-------------+-------------------+---------------------+-------------------+-------------------+------------------------+--------+--------------------+-----------------+------------+\n",
            "|       957|                 43|Diamondback Women...|               null|       299.98|http://images.acm...|            1|                  1|                  957|                  1|             299.98|                  299.98|       1|2013-07-25 00:00:...|            11599|      CLOSED|\n",
            "|       897|                 40|Team Golf New Eng...|               null|        24.99|http://images.acm...|            5|                  4|                  897|                  2|              49.98|                   24.99|       4|2013-07-25 00:00:...|             8827|      CLOSED|\n",
            "|       365|                 17|Perfect Fitness P...|               null|        59.99|http://images.acm...|            6|                  4|                  365|                  5|             299.95|                   59.99|       4|2013-07-25 00:00:...|             8827|      CLOSED|\n",
            "|       502|                 24|Nike Men's Dri-FI...|               null|         50.0|http://images.acm...|            7|                  4|                  502|                  3|              150.0|                    50.0|       4|2013-07-25 00:00:...|             8827|      CLOSED|\n",
            "|      1014|                 46|O'Brien Men's Neo...|               null|        49.98|http://images.acm...|            8|                  4|                 1014|                  4|             199.92|                   49.98|       4|2013-07-25 00:00:...|             8827|      CLOSED|\n",
            "|       957|                 43|Diamondback Women...|               null|       299.98|http://images.acm...|            9|                  5|                  957|                  1|             299.98|                  299.98|       5|2013-07-25 00:00:...|            11318|    COMPLETE|\n",
            "|       365|                 17|Perfect Fitness P...|               null|        59.99|http://images.acm...|           10|                  5|                  365|                  5|             299.95|                   59.99|       5|2013-07-25 00:00:...|            11318|    COMPLETE|\n",
            "|      1014|                 46|O'Brien Men's Neo...|               null|        49.98|http://images.acm...|           11|                  5|                 1014|                  2|              99.96|                   49.98|       5|2013-07-25 00:00:...|            11318|    COMPLETE|\n",
            "|       957|                 43|Diamondback Women...|               null|       299.98|http://images.acm...|           12|                  5|                  957|                  1|             299.98|                  299.98|       5|2013-07-25 00:00:...|            11318|    COMPLETE|\n",
            "|       403|                 18|Nike Men's CJ Eli...|               null|       129.99|http://images.acm...|           13|                  5|                  403|                  1|             129.99|                  129.99|       5|2013-07-25 00:00:...|            11318|    COMPLETE|\n",
            "|      1073|                 48|Pelican Sunstream...|               null|       199.99|http://images.acm...|           14|                  7|                 1073|                  1|             199.99|                  199.99|       7|2013-07-25 00:00:...|             4530|    COMPLETE|\n",
            "|       957|                 43|Diamondback Women...|               null|       299.98|http://images.acm...|           15|                  7|                  957|                  1|             299.98|                  299.98|       7|2013-07-25 00:00:...|             4530|    COMPLETE|\n",
            "|       926|                 41|Glove It Imperial...|               null|        15.99|http://images.acm...|           16|                  7|                  926|                  5|              79.95|                   15.99|       7|2013-07-25 00:00:...|             4530|    COMPLETE|\n",
            "|       957|                 43|Diamondback Women...|               null|       299.98|http://images.acm...|           34|                 12|                  957|                  1|             299.98|                  299.98|      12|2013-07-25 00:00:...|             1837|      CLOSED|\n",
            "|       134|                  7|Nike Women's Lege...|               null|         25.0|http://images.acm...|           35|                 12|                  134|                  4|              100.0|                    25.0|      12|2013-07-25 00:00:...|             1837|      CLOSED|\n",
            "|      1014|                 46|O'Brien Men's Neo...|               null|        49.98|http://images.acm...|           36|                 12|                 1014|                  3|             149.94|                   49.98|      12|2013-07-25 00:00:...|             1837|      CLOSED|\n",
            "|       191|                  9|Nike Men's Free 5...|               null|        99.99|http://images.acm...|           37|                 12|                  191|                  5|             499.95|                   99.99|      12|2013-07-25 00:00:...|             1837|      CLOSED|\n",
            "|       502|                 24|Nike Men's Dri-FI...|               null|         50.0|http://images.acm...|           38|                 12|                  502|                  5|              250.0|                    50.0|      12|2013-07-25 00:00:...|             1837|      CLOSED|\n",
            "|       502|                 24|Nike Men's Dri-FI...|               null|         50.0|http://images.acm...|           43|                 15|                  502|                  1|               50.0|                    50.0|      15|2013-07-25 00:00:...|             2568|    COMPLETE|\n",
            "|      1073|                 48|Pelican Sunstream...|               null|       199.99|http://images.acm...|           44|                 15|                 1073|                  1|             199.99|                  199.99|      15|2013-07-25 00:00:...|             2568|    COMPLETE|\n",
            "+----------+-------------------+--------------------+-------------------+-------------+--------------------+-------------+-------------------+---------------------+-------------------+-------------------+------------------------+--------+--------------------+-----------------+------------+\n",
            "only showing top 20 rows\n",
            "\n"
          ]
        }
      ]
    },
    {
      "cell_type": "code",
      "source": [
        "# Calculate daily product revenue\n",
        "daily_product_revenue_df = (joined_df.groupBy(\"order_date\", \"product_id\").agg({\"order_item_subtotal\": \"sum\"}).withColumnRenamed(\"sum(order_item_subtotal)\", \"daily_product_revenue\"))\n",
        "daily_product_revenue_df.show()"
      ],
      "metadata": {
        "colab": {
          "base_uri": "https://localhost:8080/"
        },
        "id": "95qvYPdkNUF_",
        "outputId": "4c47dce4-b758-4d75-be76-90f216ab9b6f"
      },
      "execution_count": null,
      "outputs": [
        {
          "output_type": "stream",
          "name": "stdout",
          "text": [
            "+--------------------+----------+---------------------+\n",
            "|          order_date|product_id|daily_product_revenue|\n",
            "+--------------------+----------+---------------------+\n",
            "|2013-08-01 00:00:...|       926|                47.97|\n",
            "|2013-08-04 00:00:...|       249|               219.88|\n",
            "|2013-08-05 00:00:...|      1073|   2999.8499999999995|\n",
            "|2013-08-07 00:00:...|       273|               139.95|\n",
            "|2013-08-07 00:00:...|       797|                17.99|\n",
            "|2013-08-19 00:00:...|        37|               104.97|\n",
            "|2013-08-20 00:00:...|       249|               164.91|\n",
            "|2013-08-25 00:00:...|       191|   3599.6399999999994|\n",
            "|2013-08-26 00:00:...|       977|                59.98|\n",
            "|2013-10-07 00:00:...|      1073|              1399.93|\n",
            "|2013-10-24 00:00:...|       134|                 50.0|\n",
            "|2013-10-30 00:00:...|       116|               224.95|\n",
            "|2013-11-05 00:00:...|       282|                63.98|\n",
            "|2013-11-14 00:00:...|       627|              2359.41|\n",
            "|2013-11-18 00:00:...|       771|               199.95|\n",
            "|2013-11-25 00:00:...|       822|               191.96|\n",
            "|2013-12-13 00:00:...|       885|                74.97|\n",
            "|2013-12-15 00:00:...|       728|                650.0|\n",
            "|2013-12-21 00:00:...|      1014|    3998.400000000001|\n",
            "|2014-01-05 00:00:...|       957|    7199.519999999997|\n",
            "+--------------------+----------+---------------------+\n",
            "only showing top 20 rows\n",
            "\n"
          ]
        }
      ]
    },
    {
      "cell_type": "code",
      "source": [
        "from pyspark.sql.types import StructType, StructField, TimestampType, StringType, DoubleType\n",
        "\n",
        "# Define the schema for the Hive table\n",
        "schema = StructType([StructField(\"order_date\", TimestampType(), True),StructField(\"product_name\", StringType(), True),StructField(\"revenue\", DoubleType(), True)])\n"
      ],
      "metadata": {
        "id": "PlvlY2sHNZ0H"
      },
      "execution_count": null,
      "outputs": []
    },
    {
      "cell_type": "code",
      "source": [
        "from pyspark.sql import SparkSession\n",
        "from pyspark.sql.types import StructType, StructField, TimestampType, StringType, DoubleType"
      ],
      "metadata": {
        "id": "qBl7iYPANkja"
      },
      "execution_count": null,
      "outputs": []
    },
    {
      "cell_type": "code",
      "source": [
        "\n",
        "# Initialize a Spark session\n",
        "spark = SparkSession.builder.appName(\"RetailDataAnalysis\").enableHiveSupport().getOrCreate()\n",
        "\n",
        "# Define the schema for the Hive table\n",
        "schema = StructType([StructField(\"order_date\", TimestampType(), True),StructField(\"product_name\", StringType(), True),StructField(\"revenue\", DoubleType(), True)])\n",
        "\n",
        "# Create the Hive table with the specified schema\n",
        "spark.sql(\"CREATE TABLE IF NOT EXISTS daily_product_revenue (order_date TIMESTAMP, product_name STRING, revenue DOUBLE)\")\n"
      ],
      "metadata": {
        "id": "zoSW0vj-cOLw"
      },
      "execution_count": null,
      "outputs": []
    },
    {
      "cell_type": "code",
      "source": [
        "# Save the DataFrame as the Hive table\n",
        "daily_product_revenue_df.write.format(\"parquet\").mode(\"overwrite\").saveAsTable(\"daily_product_revenue\")\n"
      ],
      "metadata": {
        "id": "wQVD5X_xcRbn"
      },
      "execution_count": null,
      "outputs": []
    },
    {
      "cell_type": "code",
      "source": [
        "\n",
        "# Read the Hive table into a DataFrame\n",
        "daily_product_revenue_df = spark.sql(\"SELECT * FROM daily_product_revenue\")"
      ],
      "metadata": {
        "id": "WWscsNkWcTyH"
      },
      "execution_count": null,
      "outputs": []
    },
    {
      "cell_type": "code",
      "source": [
        "# Perform queries on the DataFrame\n",
        "daily_product_revenue_df.show()\n"
      ],
      "metadata": {
        "id": "KrOervq-cVNx"
      },
      "execution_count": null,
      "outputs": []
    }
  ]
}